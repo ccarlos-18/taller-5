{
  "cells": [
    {
      "cell_type": "markdown",
      "id": "66beb5a1",
      "metadata": {
        "id": "66beb5a1"
      },
      "source": [
        "# Fundamentos de Programación para Ingeniería Mecánica\n",
        "## UPB Montería - 202310\n",
        "### Taller 5: Funciones y Estructuras de Datos\n",
        "- Docente: Miguel Ortiz (miguel.ortizp@upb.edu.co)"
      ]
    },
    {
      "cell_type": "markdown",
      "id": "b4381f55",
      "metadata": {
        "id": "b4381f55"
      },
      "source": [
        "Datos del Estudiante:\n",
        "- Nombre:\n",
        "- ID:\n",
        "- email:"
      ]
    },
    {
      "cell_type": "markdown",
      "id": "433f35a0",
      "metadata": {
        "id": "433f35a0"
      },
      "source": [
        "> Resuelva los siguientes ejercicios utilizando **Funciones, Listas y Diccionarios**."
      ]
    },
    {
      "cell_type": "markdown",
      "id": "aead929b",
      "metadata": {
        "id": "aead929b"
      },
      "source": [
        "### Problema 1: Discurso Político (150xp)\n",
        "\n",
        "Diseñe el algoritmo y escriba un código en lenguaje de programación Python para generar discursos políticos aleatorios, teniendo en cuenta la siguiente imagen:\n",
        "\n",
        "![componentes de un discurso](https://github.com/Mikheltodd/FunProgMec_202310_Taller5/blob/main/.ipynb_checkpoints/discurso.png?raw=1)\n",
        "\n",
        "Para ello, debe solicitar al usuario el nombre del candidato, un presupuesto general, y tres (3) porcentajes que representen los dineros que destinará a diferentes sectores seleccionados de forma aleatoria (lista de beneficio populista).\n",
        "\n",
        "Crea una función sin parámetros que retorne un string con el mensaje político. Dentro de la función deben aparecer los inputs para solicitar información al usuario. Guarda el mensaje creado por la función en una variable llamada `mensaje_politico` e imprime su valor en consola. \n",
        "\n",
        "**Ejemplo:**\n",
        "\n",
        "```\n",
        ">>> Entradas:\n",
        "Ingrese nombre del candidato: Chocolove McDonell\n",
        "Ingrese presupuesto (en millones de pesos): 1250\n",
        "Ingrese Porcentaje 1: 25\n",
        "Ingrese Porcentaje 2: 30\n",
        "Ingrese Porcentaje 3: 45\n",
        ">>> Salidas:\n",
        "Estimados copartidarios. \n",
        "Mi nombre es Chocolove McDonell y hoy vengo a decirles que, con su ayuda combatiré el desplazamiento y promoveré la educación de cada colombiano. Y es por eso que hoy he venido a proponerles invertir $1250.0 millones de pesos de la siguiente manera: \n",
        " - $312.5 millones de pesos en el empleo \n",
        " - $375.0 millones de pesos en la educación \n",
        " - $562.5 millones de pesos en la salud \n",
        "```\n",
        "\n",
        "**Nota:** para seleccionar un elemento aleatorio de una lista puede utilizar la función `choice()` de la librería random:\n",
        "\n",
        "```python\n",
        "import random\n",
        "random.choice([1, 2, 3])\n",
        "```\n",
        "\n",
        "**Recomendación:** cree las variables sin acento (tildes) y en minúsculas. "
      ]
    },
    {
      "cell_type": "code",
      "source": [
        "import random\n",
        "\n",
        "def generar_discurso():\n",
        "    # pedir información al usuario\n",
        "    nombre = input(\"Ingrese nombre del candidato: \")\n",
        "    presupuesto = float(input(\"Ingrese presupuesto (en millones de pesos): \"))\n",
        "    porcentaje1 = float(input(\"Ingrese Porcentaje 1: \"))\n",
        "    porcentaje2 = float(input(\"Ingrese Porcentaje 2: \"))\n",
        "    porcentaje3 = float(input(\"Ingrese Porcentaje 3: \"))\n",
        "    \n",
        "    # Selección aleatoria de las opciones del discurso\n",
        "    titulo = random.choice(['Queridos', 'Apreciados', 'distinguidos', 'Honorables', 'estimados', 'respetados'])\n",
        "    publico_objetivo = random.choice(['Compatriotas', 'copartidarios', 'amigos', 'coterraneos', 'concuidadanos', 'electores'])\n",
        "    condicion = random.choice(['En mi gobierno', 'Con su apoyo', 'Siendo elegido', 'Con su ayuda', 'Si me siguen', 'Durante mi mandato'])\n",
        "    compromiso = random.choice(['voy a derrotar', 'vencere', 'eliminare', 'acabare', 'luchare contra', 'combatire'])\n",
        "    ilusion_lucha = random.choice(['la violencia y', 'la delincuencia y', 'la corrupcion y', 'la inflacion y', 'la pobreza y', 'el desplazamiento y'])\n",
        "    promesa = random.choice(['Trabajare por', 'Garantizare', 'protegere', 'velare por', 'promovere', 'defendere'])\n",
        "    beneficio_publico = random.choice(['la educacion', 'el empleo', 'la seguridad', 'la paz', 'la igualdad', 'la salud'])\n",
        "    dependiente = random.choice(['de la cantidad de votos', 'del pais', 'de la ciudad', 'de la comunidad', 'de la poblacion', 'para toda la gente', 'de cada colombiano'])\n",
        "    \n",
        "    # Cálculo de los montos a invertir en cada sector\n",
        "    monto1 = presupuesto * (porcentaje1 / 100)\n",
        "    monto2 = presupuesto * (porcentaje2 / 100)\n",
        "    monto3 = presupuesto * (porcentaje3 / 100)\n",
        "    \n",
        "    # Crear el mensaje político\n",
        "    mensaje = f\"{titulo} {publico_objetivo}. \\nMi nombre es {nombre} y hoy vengo a decirles que, {condicion} {compromiso} {ilusion_lucha} {promesa} {beneficio_publico}. Y es por eso que hoy he venido a proponerles invertir ${presupuesto} millones de pesos de la siguiente manera:\\n - ${monto1} millones de pesos en el empleo\\n - ${monto2} millones de pesos en la educación\\n - ${monto3} millones de pesos en la salud\\n{dependiente}.\"\n",
        "    \n",
        "    return mensaje\n",
        "\n",
        "# Llamado a la función para generar el mensaje político\n",
        "mensaje_politico = generar_discurso()\n",
        "\n",
        "\n",
        "print(mensaje_politico)\n"
      ],
      "metadata": {
        "id": "bF1BNjglUrN4",
        "outputId": "7e054cb5-4025-4683-b004-73117fdbb238",
        "colab": {
          "base_uri": "https://localhost:8080/"
        }
      },
      "id": "bF1BNjglUrN4",
      "execution_count": 4,
      "outputs": [
        {
          "output_type": "stream",
          "name": "stdout",
          "text": [
            "Ingrese nombre del candidato: carlos\n",
            "Ingrese presupuesto (en millones de pesos): 1250.0\n",
            "Ingrese Porcentaje 1: 25\n",
            "Ingrese Porcentaje 2: 30\n",
            "Ingrese Porcentaje 3: 45\n",
            "respetados amigos. \n",
            "Mi nombre es carlos y hoy vengo a decirles que, Si me siguen acabare la corrupcion y defendere la igualdad. Y es por eso que hoy he venido a proponerles invertir $1250.0 millones de pesos de la siguiente manera:\n",
            " - $312.5 millones de pesos en el empleo\n",
            " - $375.0 millones de pesos en la educación\n",
            " - $562.5 millones de pesos en la salud\n",
            "de la poblacion.\n"
          ]
        }
      ]
    }
  ],
  "metadata": {
    "kernelspec": {
      "display_name": "Python 3 (ipykernel)",
      "language": "python",
      "name": "python3"
    },
    "language_info": {
      "codemirror_mode": {
        "name": "ipython",
        "version": 3
      },
      "file_extension": ".py",
      "mimetype": "text/x-python",
      "name": "python",
      "nbconvert_exporter": "python",
      "pygments_lexer": "ipython3",
      "version": "3.10.6"
    },
    "colab": {
      "provenance": []
    }
  },
  "nbformat": 4,
  "nbformat_minor": 5
}